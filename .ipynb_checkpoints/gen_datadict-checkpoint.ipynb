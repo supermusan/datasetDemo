{
 "cells": [
  {
   "cell_type": "code",
   "execution_count": 1,
   "metadata": {},
   "outputs": [],
   "source": [
    "import os\n",
    "import glob\n",
    "import tqdm"
   ]
  },
  {
   "cell_type": "code",
   "execution_count": 2,
   "metadata": {},
   "outputs": [],
   "source": [
    "video_dir = \"/data_activate/wangweisen/reenactment/dataset/voxceleb/vox/chunks\"\n",
    "clips_dir_train = \"/data_activate/wangweisen/reenactment/dataset/voxceleb/vox/vox2-initial-png-0.25/train\""
   ]
  },
  {
   "cell_type": "code",
   "execution_count": 3,
   "metadata": {},
   "outputs": [],
   "source": [
    "clip_list = os.listdir(clips_dir_train)"
   ]
  },
  {
   "cell_type": "code",
   "execution_count": 4,
   "metadata": {},
   "outputs": [
    {
     "data": {
      "text/plain": [
       "60185"
      ]
     },
     "execution_count": 4,
     "metadata": {},
     "output_type": "execute_result"
    }
   ],
   "source": [
    "len(clip_list)"
   ]
  },
  {
   "cell_type": "code",
   "execution_count": 5,
   "metadata": {},
   "outputs": [],
   "source": [
    "def get_videopath(name, rootdir=\"static/videos/vox2\"):\n",
    "    return os.path.join(rootdir, name+\".mp4\")\n",
    "\n",
    "def get_framelist(clipname, clips_dir, rootdir=\"static/images/vox2\"):\n",
    "    pathlist = []\n",
    "    return [item.replace(clips_dir, rootdir) for item in glob.glob(os.path.join(clips_dir, clipname, \"*.png\"))]\n",
    "    "
   ]
  },
  {
   "cell_type": "code",
   "execution_count": 29,
   "metadata": {},
   "outputs": [
    {
     "name": "stderr",
     "output_type": "stream",
     "text": [
      "100%|██████████| 57843/57843 [15:53<00:00, 60.67it/s]\n"
     ]
    }
   ],
   "source": [
    "hashmap = {}\n",
    "for clip in tqdm.tqdm(clip_list):\n",
    "    _key = clip.split(\".mp4\")[0]\n",
    "    if _key not in hashmap.keys():\n",
    "        hashmap[_key] = {\"video\":get_videopath(_key) ,\"frame\":get_framelist(clip, clips_dir_train)}\n",
    "    else:\n",
    "        hashmap[_key][\"frame\"].extend(get_framelist(clip, clips_dir_train))\n",
    "        "
   ]
  },
  {
   "cell_type": "code",
   "execution_count": 49,
   "metadata": {},
   "outputs": [
    {
     "data": {
      "text/plain": [
       "{'video': '/static/videos/vox2/V0MB4IrxICI#00049.txt#91.04-96.52.mp4',\n",
       " 'frame': ['/static/images/vox2/V0MB4IrxICI#00049.txt#91.04-96.52.mp4#V0MB4IrxICI#000.mp4/0000095.png',\n",
       "  '/static/images/vox2/V0MB4IrxICI#00049.txt#91.04-96.52.mp4#V0MB4IrxICI#000.mp4/0000072.png',\n",
       "  '/static/images/vox2/V0MB4IrxICI#00049.txt#91.04-96.52.mp4#V0MB4IrxICI#000.mp4/0000067.png',\n",
       "  '/static/images/vox2/V0MB4IrxICI#00049.txt#91.04-96.52.mp4#V0MB4IrxICI#000.mp4/0000102.png',\n",
       "  '/static/images/vox2/V0MB4IrxICI#00049.txt#91.04-96.52.mp4#V0MB4IrxICI#000.mp4/0000090.png',\n",
       "  '/static/images/vox2/V0MB4IrxICI#00049.txt#91.04-96.52.mp4#V0MB4IrxICI#000.mp4/0000115.png',\n",
       "  '/static/images/vox2/V0MB4IrxICI#00049.txt#91.04-96.52.mp4#V0MB4IrxICI#000.mp4/0000120.png',\n",
       "  '/static/images/vox2/V0MB4IrxICI#00049.txt#91.04-96.52.mp4#V0MB4IrxICI#000.mp4/0000119.png',\n",
       "  '/static/images/vox2/V0MB4IrxICI#00049.txt#91.04-96.52.mp4#V0MB4IrxICI#000.mp4/0000048.png',\n",
       "  '/static/images/vox2/V0MB4IrxICI#00049.txt#91.04-96.52.mp4#V0MB4IrxICI#000.mp4/0000030.png',\n",
       "  '/static/images/vox2/V0MB4IrxICI#00049.txt#91.04-96.52.mp4#V0MB4IrxICI#000.mp4/0000027.png',\n",
       "  '/static/images/vox2/V0MB4IrxICI#00049.txt#91.04-96.52.mp4#V0MB4IrxICI#000.mp4/0000087.png',\n",
       "  '/static/images/vox2/V0MB4IrxICI#00049.txt#91.04-96.52.mp4#V0MB4IrxICI#000.mp4/0000070.png',\n",
       "  '/static/images/vox2/V0MB4IrxICI#00049.txt#91.04-96.52.mp4#V0MB4IrxICI#000.mp4/0000079.png',\n",
       "  '/static/images/vox2/V0MB4IrxICI#00049.txt#91.04-96.52.mp4#V0MB4IrxICI#000.mp4/0000032.png',\n",
       "  '/static/images/vox2/V0MB4IrxICI#00049.txt#91.04-96.52.mp4#V0MB4IrxICI#000.mp4/0000006.png',\n",
       "  '/static/images/vox2/V0MB4IrxICI#00049.txt#91.04-96.52.mp4#V0MB4IrxICI#000.mp4/0000107.png',\n",
       "  '/static/images/vox2/V0MB4IrxICI#00049.txt#91.04-96.52.mp4#V0MB4IrxICI#000.mp4/0000086.png',\n",
       "  '/static/images/vox2/V0MB4IrxICI#00049.txt#91.04-96.52.mp4#V0MB4IrxICI#000.mp4/0000029.png',\n",
       "  '/static/images/vox2/V0MB4IrxICI#00049.txt#91.04-96.52.mp4#V0MB4IrxICI#000.mp4/0000013.png',\n",
       "  '/static/images/vox2/V0MB4IrxICI#00049.txt#91.04-96.52.mp4#V0MB4IrxICI#000.mp4/0000036.png',\n",
       "  '/static/images/vox2/V0MB4IrxICI#00049.txt#91.04-96.52.mp4#V0MB4IrxICI#000.mp4/0000121.png',\n",
       "  '/static/images/vox2/V0MB4IrxICI#00049.txt#91.04-96.52.mp4#V0MB4IrxICI#000.mp4/0000136.png',\n",
       "  '/static/images/vox2/V0MB4IrxICI#00049.txt#91.04-96.52.mp4#V0MB4IrxICI#000.mp4/0000118.png',\n",
       "  '/static/images/vox2/V0MB4IrxICI#00049.txt#91.04-96.52.mp4#V0MB4IrxICI#000.mp4/0000064.png',\n",
       "  '/static/images/vox2/V0MB4IrxICI#00049.txt#91.04-96.52.mp4#V0MB4IrxICI#000.mp4/0000114.png',\n",
       "  '/static/images/vox2/V0MB4IrxICI#00049.txt#91.04-96.52.mp4#V0MB4IrxICI#000.mp4/0000122.png',\n",
       "  '/static/images/vox2/V0MB4IrxICI#00049.txt#91.04-96.52.mp4#V0MB4IrxICI#000.mp4/0000039.png',\n",
       "  '/static/images/vox2/V0MB4IrxICI#00049.txt#91.04-96.52.mp4#V0MB4IrxICI#000.mp4/0000068.png',\n",
       "  '/static/images/vox2/V0MB4IrxICI#00049.txt#91.04-96.52.mp4#V0MB4IrxICI#000.mp4/0000130.png',\n",
       "  '/static/images/vox2/V0MB4IrxICI#00049.txt#91.04-96.52.mp4#V0MB4IrxICI#000.mp4/0000063.png',\n",
       "  '/static/images/vox2/V0MB4IrxICI#00049.txt#91.04-96.52.mp4#V0MB4IrxICI#000.mp4/0000128.png',\n",
       "  '/static/images/vox2/V0MB4IrxICI#00049.txt#91.04-96.52.mp4#V0MB4IrxICI#000.mp4/0000016.png',\n",
       "  '/static/images/vox2/V0MB4IrxICI#00049.txt#91.04-96.52.mp4#V0MB4IrxICI#000.mp4/0000020.png',\n",
       "  '/static/images/vox2/V0MB4IrxICI#00049.txt#91.04-96.52.mp4#V0MB4IrxICI#000.mp4/0000033.png',\n",
       "  '/static/images/vox2/V0MB4IrxICI#00049.txt#91.04-96.52.mp4#V0MB4IrxICI#000.mp4/0000014.png',\n",
       "  '/static/images/vox2/V0MB4IrxICI#00049.txt#91.04-96.52.mp4#V0MB4IrxICI#000.mp4/0000083.png',\n",
       "  '/static/images/vox2/V0MB4IrxICI#00049.txt#91.04-96.52.mp4#V0MB4IrxICI#000.mp4/0000053.png',\n",
       "  '/static/images/vox2/V0MB4IrxICI#00049.txt#91.04-96.52.mp4#V0MB4IrxICI#000.mp4/0000113.png',\n",
       "  '/static/images/vox2/V0MB4IrxICI#00049.txt#91.04-96.52.mp4#V0MB4IrxICI#000.mp4/0000071.png',\n",
       "  '/static/images/vox2/V0MB4IrxICI#00049.txt#91.04-96.52.mp4#V0MB4IrxICI#000.mp4/0000004.png',\n",
       "  '/static/images/vox2/V0MB4IrxICI#00049.txt#91.04-96.52.mp4#V0MB4IrxICI#000.mp4/0000109.png',\n",
       "  '/static/images/vox2/V0MB4IrxICI#00049.txt#91.04-96.52.mp4#V0MB4IrxICI#000.mp4/0000098.png',\n",
       "  '/static/images/vox2/V0MB4IrxICI#00049.txt#91.04-96.52.mp4#V0MB4IrxICI#000.mp4/0000092.png',\n",
       "  '/static/images/vox2/V0MB4IrxICI#00049.txt#91.04-96.52.mp4#V0MB4IrxICI#000.mp4/0000108.png',\n",
       "  '/static/images/vox2/V0MB4IrxICI#00049.txt#91.04-96.52.mp4#V0MB4IrxICI#000.mp4/0000105.png',\n",
       "  '/static/images/vox2/V0MB4IrxICI#00049.txt#91.04-96.52.mp4#V0MB4IrxICI#000.mp4/0000025.png',\n",
       "  '/static/images/vox2/V0MB4IrxICI#00049.txt#91.04-96.52.mp4#V0MB4IrxICI#000.mp4/0000024.png',\n",
       "  '/static/images/vox2/V0MB4IrxICI#00049.txt#91.04-96.52.mp4#V0MB4IrxICI#000.mp4/0000112.png',\n",
       "  '/static/images/vox2/V0MB4IrxICI#00049.txt#91.04-96.52.mp4#V0MB4IrxICI#000.mp4/0000099.png',\n",
       "  '/static/images/vox2/V0MB4IrxICI#00049.txt#91.04-96.52.mp4#V0MB4IrxICI#000.mp4/0000111.png',\n",
       "  '/static/images/vox2/V0MB4IrxICI#00049.txt#91.04-96.52.mp4#V0MB4IrxICI#000.mp4/0000132.png',\n",
       "  '/static/images/vox2/V0MB4IrxICI#00049.txt#91.04-96.52.mp4#V0MB4IrxICI#000.mp4/0000093.png',\n",
       "  '/static/images/vox2/V0MB4IrxICI#00049.txt#91.04-96.52.mp4#V0MB4IrxICI#000.mp4/0000125.png',\n",
       "  '/static/images/vox2/V0MB4IrxICI#00049.txt#91.04-96.52.mp4#V0MB4IrxICI#000.mp4/0000050.png',\n",
       "  '/static/images/vox2/V0MB4IrxICI#00049.txt#91.04-96.52.mp4#V0MB4IrxICI#000.mp4/0000129.png',\n",
       "  '/static/images/vox2/V0MB4IrxICI#00049.txt#91.04-96.52.mp4#V0MB4IrxICI#000.mp4/0000073.png',\n",
       "  '/static/images/vox2/V0MB4IrxICI#00049.txt#91.04-96.52.mp4#V0MB4IrxICI#000.mp4/0000011.png',\n",
       "  '/static/images/vox2/V0MB4IrxICI#00049.txt#91.04-96.52.mp4#V0MB4IrxICI#000.mp4/0000028.png',\n",
       "  '/static/images/vox2/V0MB4IrxICI#00049.txt#91.04-96.52.mp4#V0MB4IrxICI#000.mp4/0000059.png',\n",
       "  '/static/images/vox2/V0MB4IrxICI#00049.txt#91.04-96.52.mp4#V0MB4IrxICI#000.mp4/0000060.png',\n",
       "  '/static/images/vox2/V0MB4IrxICI#00049.txt#91.04-96.52.mp4#V0MB4IrxICI#000.mp4/0000042.png',\n",
       "  '/static/images/vox2/V0MB4IrxICI#00049.txt#91.04-96.52.mp4#V0MB4IrxICI#000.mp4/0000081.png',\n",
       "  '/static/images/vox2/V0MB4IrxICI#00049.txt#91.04-96.52.mp4#V0MB4IrxICI#000.mp4/0000051.png',\n",
       "  '/static/images/vox2/V0MB4IrxICI#00049.txt#91.04-96.52.mp4#V0MB4IrxICI#000.mp4/0000116.png',\n",
       "  '/static/images/vox2/V0MB4IrxICI#00049.txt#91.04-96.52.mp4#V0MB4IrxICI#000.mp4/0000106.png',\n",
       "  '/static/images/vox2/V0MB4IrxICI#00049.txt#91.04-96.52.mp4#V0MB4IrxICI#000.mp4/0000082.png',\n",
       "  '/static/images/vox2/V0MB4IrxICI#00049.txt#91.04-96.52.mp4#V0MB4IrxICI#000.mp4/0000012.png',\n",
       "  '/static/images/vox2/V0MB4IrxICI#00049.txt#91.04-96.52.mp4#V0MB4IrxICI#000.mp4/0000040.png',\n",
       "  '/static/images/vox2/V0MB4IrxICI#00049.txt#91.04-96.52.mp4#V0MB4IrxICI#000.mp4/0000022.png',\n",
       "  '/static/images/vox2/V0MB4IrxICI#00049.txt#91.04-96.52.mp4#V0MB4IrxICI#000.mp4/0000096.png',\n",
       "  '/static/images/vox2/V0MB4IrxICI#00049.txt#91.04-96.52.mp4#V0MB4IrxICI#000.mp4/0000049.png',\n",
       "  '/static/images/vox2/V0MB4IrxICI#00049.txt#91.04-96.52.mp4#V0MB4IrxICI#000.mp4/0000089.png',\n",
       "  '/static/images/vox2/V0MB4IrxICI#00049.txt#91.04-96.52.mp4#V0MB4IrxICI#000.mp4/0000038.png',\n",
       "  '/static/images/vox2/V0MB4IrxICI#00049.txt#91.04-96.52.mp4#V0MB4IrxICI#000.mp4/0000005.png',\n",
       "  '/static/images/vox2/V0MB4IrxICI#00049.txt#91.04-96.52.mp4#V0MB4IrxICI#000.mp4/0000034.png',\n",
       "  '/static/images/vox2/V0MB4IrxICI#00049.txt#91.04-96.52.mp4#V0MB4IrxICI#000.mp4/0000066.png',\n",
       "  '/static/images/vox2/V0MB4IrxICI#00049.txt#91.04-96.52.mp4#V0MB4IrxICI#000.mp4/0000047.png',\n",
       "  '/static/images/vox2/V0MB4IrxICI#00049.txt#91.04-96.52.mp4#V0MB4IrxICI#000.mp4/0000031.png',\n",
       "  '/static/images/vox2/V0MB4IrxICI#00049.txt#91.04-96.52.mp4#V0MB4IrxICI#000.mp4/0000041.png',\n",
       "  '/static/images/vox2/V0MB4IrxICI#00049.txt#91.04-96.52.mp4#V0MB4IrxICI#000.mp4/0000054.png',\n",
       "  '/static/images/vox2/V0MB4IrxICI#00049.txt#91.04-96.52.mp4#V0MB4IrxICI#000.mp4/0000044.png',\n",
       "  '/static/images/vox2/V0MB4IrxICI#00049.txt#91.04-96.52.mp4#V0MB4IrxICI#000.mp4/0000023.png',\n",
       "  '/static/images/vox2/V0MB4IrxICI#00049.txt#91.04-96.52.mp4#V0MB4IrxICI#000.mp4/0000133.png',\n",
       "  '/static/images/vox2/V0MB4IrxICI#00049.txt#91.04-96.52.mp4#V0MB4IrxICI#000.mp4/0000015.png',\n",
       "  '/static/images/vox2/V0MB4IrxICI#00049.txt#91.04-96.52.mp4#V0MB4IrxICI#000.mp4/0000017.png',\n",
       "  '/static/images/vox2/V0MB4IrxICI#00049.txt#91.04-96.52.mp4#V0MB4IrxICI#000.mp4/0000074.png',\n",
       "  '/static/images/vox2/V0MB4IrxICI#00049.txt#91.04-96.52.mp4#V0MB4IrxICI#000.mp4/0000075.png',\n",
       "  '/static/images/vox2/V0MB4IrxICI#00049.txt#91.04-96.52.mp4#V0MB4IrxICI#000.mp4/0000007.png',\n",
       "  '/static/images/vox2/V0MB4IrxICI#00049.txt#91.04-96.52.mp4#V0MB4IrxICI#000.mp4/0000127.png',\n",
       "  '/static/images/vox2/V0MB4IrxICI#00049.txt#91.04-96.52.mp4#V0MB4IrxICI#000.mp4/0000061.png',\n",
       "  '/static/images/vox2/V0MB4IrxICI#00049.txt#91.04-96.52.mp4#V0MB4IrxICI#000.mp4/0000045.png',\n",
       "  '/static/images/vox2/V0MB4IrxICI#00049.txt#91.04-96.52.mp4#V0MB4IrxICI#000.mp4/0000103.png',\n",
       "  '/static/images/vox2/V0MB4IrxICI#00049.txt#91.04-96.52.mp4#V0MB4IrxICI#000.mp4/0000134.png',\n",
       "  '/static/images/vox2/V0MB4IrxICI#00049.txt#91.04-96.52.mp4#V0MB4IrxICI#000.mp4/0000069.png',\n",
       "  '/static/images/vox2/V0MB4IrxICI#00049.txt#91.04-96.52.mp4#V0MB4IrxICI#000.mp4/0000057.png',\n",
       "  '/static/images/vox2/V0MB4IrxICI#00049.txt#91.04-96.52.mp4#V0MB4IrxICI#000.mp4/0000043.png',\n",
       "  '/static/images/vox2/V0MB4IrxICI#00049.txt#91.04-96.52.mp4#V0MB4IrxICI#000.mp4/0000100.png',\n",
       "  '/static/images/vox2/V0MB4IrxICI#00049.txt#91.04-96.52.mp4#V0MB4IrxICI#000.mp4/0000135.png',\n",
       "  '/static/images/vox2/V0MB4IrxICI#00049.txt#91.04-96.52.mp4#V0MB4IrxICI#000.mp4/0000123.png',\n",
       "  '/static/images/vox2/V0MB4IrxICI#00049.txt#91.04-96.52.mp4#V0MB4IrxICI#000.mp4/0000080.png',\n",
       "  '/static/images/vox2/V0MB4IrxICI#00049.txt#91.04-96.52.mp4#V0MB4IrxICI#000.mp4/0000117.png',\n",
       "  '/static/images/vox2/V0MB4IrxICI#00049.txt#91.04-96.52.mp4#V0MB4IrxICI#000.mp4/0000008.png',\n",
       "  '/static/images/vox2/V0MB4IrxICI#00049.txt#91.04-96.52.mp4#V0MB4IrxICI#000.mp4/0000021.png',\n",
       "  '/static/images/vox2/V0MB4IrxICI#00049.txt#91.04-96.52.mp4#V0MB4IrxICI#000.mp4/0000104.png',\n",
       "  '/static/images/vox2/V0MB4IrxICI#00049.txt#91.04-96.52.mp4#V0MB4IrxICI#000.mp4/0000065.png',\n",
       "  '/static/images/vox2/V0MB4IrxICI#00049.txt#91.04-96.52.mp4#V0MB4IrxICI#000.mp4/0000000.png',\n",
       "  '/static/images/vox2/V0MB4IrxICI#00049.txt#91.04-96.52.mp4#V0MB4IrxICI#000.mp4/0000037.png',\n",
       "  '/static/images/vox2/V0MB4IrxICI#00049.txt#91.04-96.52.mp4#V0MB4IrxICI#000.mp4/0000062.png',\n",
       "  '/static/images/vox2/V0MB4IrxICI#00049.txt#91.04-96.52.mp4#V0MB4IrxICI#000.mp4/0000056.png',\n",
       "  '/static/images/vox2/V0MB4IrxICI#00049.txt#91.04-96.52.mp4#V0MB4IrxICI#000.mp4/0000052.png',\n",
       "  '/static/images/vox2/V0MB4IrxICI#00049.txt#91.04-96.52.mp4#V0MB4IrxICI#000.mp4/0000124.png',\n",
       "  '/static/images/vox2/V0MB4IrxICI#00049.txt#91.04-96.52.mp4#V0MB4IrxICI#000.mp4/0000085.png',\n",
       "  '/static/images/vox2/V0MB4IrxICI#00049.txt#91.04-96.52.mp4#V0MB4IrxICI#000.mp4/0000018.png',\n",
       "  '/static/images/vox2/V0MB4IrxICI#00049.txt#91.04-96.52.mp4#V0MB4IrxICI#000.mp4/0000076.png',\n",
       "  '/static/images/vox2/V0MB4IrxICI#00049.txt#91.04-96.52.mp4#V0MB4IrxICI#000.mp4/0000026.png',\n",
       "  '/static/images/vox2/V0MB4IrxICI#00049.txt#91.04-96.52.mp4#V0MB4IrxICI#000.mp4/0000078.png',\n",
       "  '/static/images/vox2/V0MB4IrxICI#00049.txt#91.04-96.52.mp4#V0MB4IrxICI#000.mp4/0000131.png',\n",
       "  '/static/images/vox2/V0MB4IrxICI#00049.txt#91.04-96.52.mp4#V0MB4IrxICI#000.mp4/0000002.png',\n",
       "  '/static/images/vox2/V0MB4IrxICI#00049.txt#91.04-96.52.mp4#V0MB4IrxICI#000.mp4/0000035.png',\n",
       "  '/static/images/vox2/V0MB4IrxICI#00049.txt#91.04-96.52.mp4#V0MB4IrxICI#000.mp4/0000003.png',\n",
       "  '/static/images/vox2/V0MB4IrxICI#00049.txt#91.04-96.52.mp4#V0MB4IrxICI#000.mp4/0000101.png',\n",
       "  '/static/images/vox2/V0MB4IrxICI#00049.txt#91.04-96.52.mp4#V0MB4IrxICI#000.mp4/0000019.png',\n",
       "  '/static/images/vox2/V0MB4IrxICI#00049.txt#91.04-96.52.mp4#V0MB4IrxICI#000.mp4/0000055.png',\n",
       "  '/static/images/vox2/V0MB4IrxICI#00049.txt#91.04-96.52.mp4#V0MB4IrxICI#000.mp4/0000110.png',\n",
       "  '/static/images/vox2/V0MB4IrxICI#00049.txt#91.04-96.52.mp4#V0MB4IrxICI#000.mp4/0000088.png',\n",
       "  '/static/images/vox2/V0MB4IrxICI#00049.txt#91.04-96.52.mp4#V0MB4IrxICI#000.mp4/0000077.png',\n",
       "  '/static/images/vox2/V0MB4IrxICI#00049.txt#91.04-96.52.mp4#V0MB4IrxICI#000.mp4/0000009.png',\n",
       "  '/static/images/vox2/V0MB4IrxICI#00049.txt#91.04-96.52.mp4#V0MB4IrxICI#000.mp4/0000097.png',\n",
       "  '/static/images/vox2/V0MB4IrxICI#00049.txt#91.04-96.52.mp4#V0MB4IrxICI#000.mp4/0000010.png',\n",
       "  '/static/images/vox2/V0MB4IrxICI#00049.txt#91.04-96.52.mp4#V0MB4IrxICI#000.mp4/0000091.png',\n",
       "  '/static/images/vox2/V0MB4IrxICI#00049.txt#91.04-96.52.mp4#V0MB4IrxICI#000.mp4/0000084.png',\n",
       "  '/static/images/vox2/V0MB4IrxICI#00049.txt#91.04-96.52.mp4#V0MB4IrxICI#000.mp4/0000046.png',\n",
       "  '/static/images/vox2/V0MB4IrxICI#00049.txt#91.04-96.52.mp4#V0MB4IrxICI#000.mp4/0000094.png',\n",
       "  '/static/images/vox2/V0MB4IrxICI#00049.txt#91.04-96.52.mp4#V0MB4IrxICI#000.mp4/0000126.png',\n",
       "  '/static/images/vox2/V0MB4IrxICI#00049.txt#91.04-96.52.mp4#V0MB4IrxICI#000.mp4/0000058.png',\n",
       "  '/static/images/vox2/V0MB4IrxICI#00049.txt#91.04-96.52.mp4#V0MB4IrxICI#000.mp4/0000001.png']}"
      ]
     },
     "execution_count": 49,
     "metadata": {},
     "output_type": "execute_result"
    }
   ],
   "source": [
    "hashmap['V0MB4IrxICI#00049.txt#91.04-96.52']"
   ]
  },
  {
   "cell_type": "code",
   "execution_count": 50,
   "metadata": {},
   "outputs": [],
   "source": [
    "import pickle"
   ]
  },
  {
   "cell_type": "code",
   "execution_count": 54,
   "metadata": {},
   "outputs": [],
   "source": [
    "with open(\"../pkls/datadict_vox2.pkl\", \"wb\") as fp:\n",
    "    pickle.dump(hashmap, fp)"
   ]
  },
  {
   "cell_type": "code",
   "execution_count": null,
   "metadata": {},
   "outputs": [],
   "source": []
  }
 ],
 "metadata": {
  "kernelspec": {
   "display_name": "Python 3",
   "language": "python",
   "name": "python3"
  },
  "language_info": {
   "codemirror_mode": {
    "name": "ipython",
    "version": 3
   },
   "file_extension": ".py",
   "mimetype": "text/x-python",
   "name": "python",
   "nbconvert_exporter": "python",
   "pygments_lexer": "ipython3",
   "version": "3.7.9"
  }
 },
 "nbformat": 4,
 "nbformat_minor": 4
}
