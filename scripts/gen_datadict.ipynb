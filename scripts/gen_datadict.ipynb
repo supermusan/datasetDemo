{
 "cells": [
  {
   "cell_type": "code",
   "execution_count": 1,
   "metadata": {},
   "outputs": [],
   "source": [
    "import os\n",
    "import glob\n",
    "import tqdm"
   ]
  },
  {
   "cell_type": "code",
   "execution_count": 2,
   "metadata": {},
   "outputs": [],
   "source": [
    "video_dir = \"/data_activate/wangweisen/reenactment/dataset/voxceleb/vox/chunks\"\n",
    "clips_dir_train = \"/data_activate/wangweisen/reenactment/dataset/voxceleb/vox/vox2-initial-png-0.25/train\""
   ]
  },
  {
   "cell_type": "code",
   "execution_count": 3,
   "metadata": {},
   "outputs": [],
   "source": [
    "clip_list = sorted(os.listdir(clips_dir_train))"
   ]
  },
  {
   "cell_type": "code",
   "execution_count": 4,
   "metadata": {},
   "outputs": [
    {
     "data": {
      "text/plain": [
       "68848"
      ]
     },
     "execution_count": 4,
     "metadata": {},
     "output_type": "execute_result"
    }
   ],
   "source": [
    "len(clip_list)"
   ]
  },
  {
   "cell_type": "code",
   "execution_count": 5,
   "metadata": {},
   "outputs": [],
   "source": [
    "def get_videopath(name, rootdir=\"/static/videos/vox2\"):\n",
    "    return os.path.join(rootdir, name+\".mp4\").replace(\"#\",\"%23\")\n",
    "\n",
    "def get_framelist(clipname, clips_dir, rootdir=\"/static/images/vox2\"):\n",
    "    pathlist = []\n",
    "    return sorted([item.replace(clips_dir, rootdir).replace(\"#\",\"%23\") for item in glob.glob(os.path.join(clips_dir, clipname, \"*.png\"))])\n",
    "    "
   ]
  },
  {
   "cell_type": "code",
   "execution_count": 6,
   "metadata": {},
   "outputs": [
    {
     "name": "stderr",
     "output_type": "stream",
     "text": [
      "100%|██████████| 68848/68848 [00:38<00:00, 1777.16it/s]\n"
     ]
    }
   ],
   "source": [
    "hashmap = {}\n",
    "for clip in tqdm.tqdm(clip_list):\n",
    "    _key = clip.split(\".mp4\")[0]\n",
    "    if _key not in hashmap.keys():\n",
    "        hashmap[_key] = {\"video\":get_videopath(_key) ,\"frame\":get_framelist(clip, clips_dir_train)}\n",
    "    else:\n",
    "        hashmap[_key][\"frame\"].extend(get_framelist(clip, clips_dir_train))\n",
    "        "
   ]
  },
  {
   "cell_type": "code",
   "execution_count": 7,
   "metadata": {},
   "outputs": [],
   "source": [
    "import pickle"
   ]
  },
  {
   "cell_type": "code",
   "execution_count": null,
   "metadata": {},
   "outputs": [],
   "source": [
    "with open(\"../pkls/datadict_vox2.pkl\", \"wb\") as fp:\n",
    "    pickle.dump(hashmap, fp)"
   ]
  },
  {
   "cell_type": "code",
   "execution_count": null,
   "metadata": {},
   "outputs": [],
   "source": []
  }
 ],
 "metadata": {
  "kernelspec": {
   "display_name": "Python 3",
   "language": "python",
   "name": "python3"
  },
  "language_info": {
   "codemirror_mode": {
    "name": "ipython",
    "version": 3
   },
   "file_extension": ".py",
   "mimetype": "text/x-python",
   "name": "python",
   "nbconvert_exporter": "python",
   "pygments_lexer": "ipython3",
   "version": "3.7.9"
  }
 },
 "nbformat": 4,
 "nbformat_minor": 4
}
