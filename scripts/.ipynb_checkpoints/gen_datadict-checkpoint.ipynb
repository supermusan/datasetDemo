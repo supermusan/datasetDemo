{
 "cells": [
  {
   "cell_type": "code",
   "execution_count": 26,
   "metadata": {},
   "outputs": [],
   "source": [
    "import os\n",
    "import glob\n",
    "import tqdm"
   ]
  },
  {
   "cell_type": "code",
   "execution_count": 20,
   "metadata": {},
   "outputs": [],
   "source": [
    "video_dir = \"/data_activate/wangweisen/reenactment/dataset/voxceleb/vox/chunks\"\n",
    "clips_dir_train = \"/data_activate/wangweisen/reenactment/dataset/voxceleb/vox/vox2-initial-png-0.25/train\""
   ]
  },
  {
   "cell_type": "code",
   "execution_count": 21,
   "metadata": {},
   "outputs": [],
   "source": [
    "clip_list = os.listdir(clips_dir_train)"
   ]
  },
  {
   "cell_type": "code",
   "execution_count": 24,
   "metadata": {},
   "outputs": [],
   "source": [
    "def get_videopath(name, rootdir=\"/static/videos/vox2\"):\n",
    "    return os.path.join(rootdir, name+\".mp4\")\n",
    "\n",
    "def get_framelist(clipname, clips_dir, rootdir=\"/static/images/vox2\"):\n",
    "    pathlist = []\n",
    "    return [item.replace(clips_dir, rootdir) for item in glob.glob(os.path.join(clips_dir, clipname, \"*.png\"))]\n",
    "    "
   ]
  },
  {
   "cell_type": "code",
   "execution_count": null,
   "metadata": {},
   "outputs": [
    {
     "name": "stderr",
     "output_type": "stream",
     "text": [
      " 74%|███████▍  | 42983/57843 [12:02<04:09, 59.51it/s]"
     ]
    }
   ],
   "source": [
    "hashmap = {}\n",
    "for clip in tqdm.tqdm(clip_list):\n",
    "    _key = clip.split(\".mp4\")[0]\n",
    "    if _key not in hashmap.keys():\n",
    "        hashmap[_key] = {\"video\":get_videopath(_key) ,\"frame\":get_framelist(clip, clips_dir_train)}\n",
    "    else:\n",
    "        hashmap[_key][\"frame\"].extend(get_framelist(clip, clips_dir_train))\n",
    "        "
   ]
  },
  {
   "cell_type": "code",
   "execution_count": null,
   "metadata": {},
   "outputs": [],
   "source": [
    "import pickle"
   ]
  },
  {
   "cell_type": "code",
   "execution_count": null,
   "metadata": {},
   "outputs": [],
   "source": [
    "with open(\"pkls/datadict_vox2.pkl\", wb) as fp:\n",
    "    pickle.dump(hashmap, fp)"
   ]
  }
 ],
 "metadata": {
  "kernelspec": {
   "display_name": "Python 3",
   "language": "python",
   "name": "python3"
  },
  "language_info": {
   "codemirror_mode": {
    "name": "ipython",
    "version": 3
   },
   "file_extension": ".py",
   "mimetype": "text/x-python",
   "name": "python",
   "nbconvert_exporter": "python",
   "pygments_lexer": "ipython3",
   "version": "3.7.9"
  }
 },
 "nbformat": 4,
 "nbformat_minor": 4
}
